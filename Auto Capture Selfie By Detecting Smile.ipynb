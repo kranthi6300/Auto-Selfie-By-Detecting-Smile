{
 "cells": [
  {
   "cell_type": "code",
   "execution_count": 1,
   "id": "d26b8def",
   "metadata": {},
   "outputs": [],
   "source": [
    "import cv2\n",
    "import datetime\n",
    "cap=cv2.VideoCapture(0)\n",
    "face_cascade=cv2.CascadeClassifier('haarcascade_frontalface_default.xml')\n",
    "smile_cascade=cv2.CascadeClassifier('haarcascade_smile.xml')\n",
    "while True:\n",
    "    _, frame =cap.read()\n",
    "    original_frame =frame.copy()\n",
    "    gray=cv2.cvtColor(frame,cv2.COLOR_BGR2GRAY)\n",
    "    face=face_cascade.detectMultiScale(gray,1.3,5)\n",
    "    \n",
    "    for x,y,w,h in face:\n",
    "        cv2.rectangle(frame,(x,y),(x+w,y+h),(0,255,255),2)\n",
    "        face_roi=frame[y:y+h,x:x+w]\n",
    "        gray_roi=gray[y:y+h,x:x+w]\n",
    "        smile = smile_cascade.detectMultiScale(gray_roi,1.3,25)\n",
    "        for x1,y1,w1,h1 in smile:\n",
    "            cv2.rectangle(face_roi,(x1,y1),(x1+w1,y1+h1),(0,0,255),2)\n",
    "            time_stamp=datetime.datetime.now().strftime('%y-%m-%d-%H-%M-%S')\n",
    "            #print(\"Image \"+str(cnt)+\"Saved\")\n",
    "            ##path=r'Pictures'+str(cnt)+'.jpg'\n",
    "            file_name=f'selfie-{time_stamp}.png'\n",
    "            cv2.imwrite(file_name,original_frame)\n",
    "    cv2.imshow('cam star',frame)\n",
    "    if cv2.waitKey(10)==ord('q'):\n",
    "        break"
   ]
  },
  {
   "cell_type": "code",
   "execution_count": null,
   "id": "360645e5",
   "metadata": {},
   "outputs": [],
   "source": [
    "\n",
    "\n"
   ]
  },
  {
   "cell_type": "code",
   "execution_count": null,
   "id": "ad3b8445",
   "metadata": {},
   "outputs": [],
   "source": [
    "q"
   ]
  }
 ],
 "metadata": {
  "kernelspec": {
   "display_name": "Python 3 (ipykernel)",
   "language": "python",
   "name": "python3"
  },
  "language_info": {
   "codemirror_mode": {
    "name": "ipython",
    "version": 3
   },
   "file_extension": ".py",
   "mimetype": "text/x-python",
   "name": "python",
   "nbconvert_exporter": "python",
   "pygments_lexer": "ipython3",
   "version": "3.9.7"
  }
 },
 "nbformat": 4,
 "nbformat_minor": 5
}
